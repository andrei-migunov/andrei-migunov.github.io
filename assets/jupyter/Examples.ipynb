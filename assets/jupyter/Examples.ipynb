{
 "cells": [
  {
   "cell_type": "markdown",
   "metadata": {},
   "source": [
    "# CRN, PP, and ODE examples\n",
    "\n",
    "#### Here I give a number of examples of chemical reaction networks, ODEs, and population protocols which serve as examples of anything ranging from conversions between models, techniques within models, or simple calculations of values."
   ]
  },
  {
   "cell_type": "markdown",
   "metadata": {},
   "source": [
    "#### EXAMPLE 1: Convert a probabilistic population protocol to an ODE system using the balancing equation:  (See Huang & Huls, 2022 ) and (Bournez et. al, 2012)"
   ]
  },
  {
   "cell_type": "markdown",
   "metadata": {},
   "source": [
    "If $P$ is a system of reactions of the form $q_i q_j \\rightarrow \\alpha_{ijkl} q_k q_l$, and for each pair $(qi qj)$ the sum of all $\\alpha_{ij \\cdot \\cdot} = 1$, then the equations that govern the entire system taken as an ODE are $$b(\\bf{x}) = \\sum_{i,j} ((x_i * x_j) (-e_i -e_j + \\sum_{k,l} \\alpha_{i,j,k,l}(e_k + e_l))).$$"
   ]
  },
  {
   "cell_type": "markdown",
   "metadata": {},
   "source": [
    "Here, \n",
    "\n",
    "* $e_n$ is the vector with a 1 in the $n$ index, and $0$ for all others. \n",
    "* The outer sum is taken over all the different pairs of reactants.\n",
    "* The inner sum is taken over all the different pairs of products, given some pair of reactants."
   ]
  },
  {
   "cell_type": "markdown",
   "metadata": {},
   "source": [
    "Suppose we have the following system $P$:\n",
    "\n",
    "$X + Y \\overset{1/3}{\\rightarrow} X + C$\n",
    "\n",
    "$X + Y \\overset{2/3}{\\rightarrow} X + D$\n",
    "\n",
    "$C + D \\overset{1/4}{\\rightarrow} C + D$\n",
    "\n",
    "$C + D \\overset{3/4}{\\rightarrow} C + Y$\n",
    "\n",
    "Note that:\n",
    "\n",
    "* This system is symmetric, in the sense that for all reactions that have A and B as reactants, if one of these is a catalyst in some such reaction, then the other cannot be a catalyst in any of these reactions. For example, we could not have (probability permitting) a reaction like $X + Y \\overset{...}{\\rightarrow} D + Y$.\n",
    "\n",
    "* This system is probabilistic. When X and Y run into each other, there is a 1/3 chance that X and C are produced.\n",
    "\n",
    "* $\\alpha_{x,y,x,c} = 1/3$ and $\\sum \\alpha_{x,y,\\cdot,\\cdot} = 1$."
   ]
  },
  {
   "cell_type": "markdown",
   "metadata": {},
   "source": [
    "If we solve for $b$, we get \n",
    "\n",
    "$b(\\bf{x}) = $\n",
    "\n",
    "$xy * \\begin{bmatrix} -1 \\\\ -1 \\\\ 0 \\\\ 0 \\end{bmatrix} + xy \\begin{bmatrix} 1/3 \\\\ 0 \\\\ 1/3 \\\\ 0 \\end{bmatrix} + xy \\begin{bmatrix} 2/3 \\\\ 0 \\\\ 0 \\\\ 2/3 \\end{bmatrix}$\n",
    "\n",
    "$+ cd \\begin{bmatrix} 0 \\\\ 0 \\\\ -1 \\\\ -1 \\end{bmatrix} + cd \\begin{bmatrix} 0 \\\\ 0 \\\\ 1/4 \\\\ 1/4 \\end{bmatrix} + cd \\begin{bmatrix} 0 \\\\ 3/4 \\\\ 3/4 \\\\ 0 \\end{bmatrix},$ \n",
    "\n",
    "which gives us the ODE system\n",
    "\n",
    "$b(\\bf{x}) = \\begin{bmatrix} x' \\\\ y' \\\\ c' \\\\ d' \\end{bmatrix} = \\begin{bmatrix} 0 \\\\ 3/4 cd - xy \\\\ 1/3 xy \\\\ 2/3 xy -3/4 cd \\end{bmatrix}$\n",
    "\n"
   ]
  }
 ],
 "metadata": {
  "language_info": {
   "name": "python"
  }
 },
 "nbformat": 4,
 "nbformat_minor": 2
}
