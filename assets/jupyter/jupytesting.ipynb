{
 "cells": [
  {
   "cell_type": "code",
   "execution_count": null,
   "id": "34cfb676",
   "metadata": {
    "vscode": {
     "languageId": "plaintext"
    }
   },
   "outputs": [],
   "source": [
    "class Vertex:\n",
    "    def __init__(self, key):\n",
    "        self.key = key\n",
    "        self.neighbors = {}\n",
    "\n",
    "    def get_neighbor(self, other):\n",
    "        return self.neighbors.get(other, None)\n",
    "\n",
    "    def set_neighbor(self, other, weight=0):\n",
    "        self.neighbors[other] = weight\n",
    "\n",
    "    def __repr__(self):\n",
    "        return f\"Vertex({self.key})\"\n",
    "\n",
    "    def __str__(self):\n",
    "        return (\n",
    "            str(self.key)\n",
    "            + \" connected to: \"\n",
    "            + str([x.key for x in self.neighbors])\n",
    "        )\n",
    "\n",
    "    def get_neighbors(self):\n",
    "        return self.neighbors.keys()\n",
    "\n",
    "    def get_key(self):\n",
    "        return self.key"
   ]
  },
  {
   "cell_type": "code",
   "execution_count": null,
   "id": "7b1cf87d",
   "metadata": {
    "vscode": {
     "languageId": "plaintext"
    }
   },
   "outputs": [],
   "source": [
    "class Graph:\n",
    "    def __init__(self):\n",
    "        self.vertices = {}\n",
    "\n",
    "    def set_vertex(self, key):\n",
    "        self.vertices[key] = Vertex(key)\n",
    "\n",
    "    def get_vertex(self, key):\n",
    "        return self.vertices.get(key, None)\n",
    "\n",
    "    def __contains__(self, key):\n",
    "        return key in self.vertices\n",
    "\n",
    "    def get_vertices(self):\n",
    "        return self.vertices.keys()\n",
    "\n",
    "    def __iter__(self):\n",
    "        return iter(self.vertices.values())\n",
    "       \n",
    "    def add_edge(self,from_vert,to_vert,weight=0):\n",
    "        if(not from_vert in self.vertices):\n",
    "            self.set_vertex(from_vert)\n",
    "        if(not to_vert in self.vertices):\n",
    "            self.set_vertex(to_vert)\n",
    "        self.vertices[from_vert].set_neighbor(Vertex(to_vert),weight)\n",
    "\n",
    "            "
   ]
  },
  {
   "cell_type": "code",
   "execution_count": null,
   "id": "ff461664",
   "metadata": {
    "vscode": {
     "languageId": "plaintext"
    }
   },
   "outputs": [],
   "source": [
    "g = Graph()\n",
    "for i in range(6):\n",
    "    g.set_vertex(i)\n",
    "g.vertices\n",
    "g.add_edge(0, 1, 5)\n",
    "g.add_edge(0, 5, 2)\n",
    "g.add_edge(1, 2, 4)\n",
    "g.add_edge(2, 3, 9)\n",
    "g.add_edge(3, 4, 7)\n",
    "g.add_edge(3, 5, 3)\n",
    "g.add_edge(4, 0, 1)\n",
    "g.add_edge(5, 4, 8)\n",
    "g.add_edge(5, 2, 1)\n",
    "for v in g:\n",
    "    for w in v.get_neighbors():\n",
    "        print(f\"({v.get_key()}, {w.get_key()})\")\n"
   ]
  }
 ],
 "metadata": {
  "celltoolbar": "Slideshow",
  "kernelspec": {
   "display_name": "Python 3 (ipykernel)",
   "language": "python",
   "name": "python3"
  },
  "language_info": {
   "codemirror_mode": {
    "name": "ipython",
    "version": 3
   },
   "file_extension": ".py",
   "mimetype": "text/x-python",
   "name": "python",
   "nbconvert_exporter": "python",
   "pygments_lexer": "ipython3",
   "version": "3.9.12"
  },
  "varInspector": {
   "cols": {
    "lenName": 16,
    "lenType": 16,
    "lenVar": 40
   },
   "kernels_config": {
    "python": {
     "delete_cmd_postfix": "",
     "delete_cmd_prefix": "del ",
     "library": "var_list.py",
     "varRefreshCmd": "print(var_dic_list())"
    },
    "r": {
     "delete_cmd_postfix": ") ",
     "delete_cmd_prefix": "rm(",
     "library": "var_list.r",
     "varRefreshCmd": "cat(var_dic_list()) "
    }
   },
   "types_to_exclude": [
    "module",
    "function",
    "builtin_function_or_method",
    "instance",
    "_Feature"
   ],
   "window_display": false
  }
 },
 "nbformat": 4,
 "nbformat_minor": 5
}
