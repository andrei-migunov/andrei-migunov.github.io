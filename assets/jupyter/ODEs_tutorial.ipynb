{
 "cells": [
  {
   "cell_type": "markdown",
   "metadata": {},
   "source": [
    "# Welcome to the ODEs in Python Tutorial For Analog Computers and their Digital Computers!"
   ]
  },
  {
   "cell_type": "markdown",
   "metadata": {},
   "source": [
    "First we're going to make sure everything we need is installed:\n",
    "\n",
    "In a terminal window, run `py -m pip install (packagename))` for each of the packages below:\n",
    "\n",
    "You can actually do this in the notebook by running !pip install package_name in a cell, if you make a new code cell below)\n",
    "\n",
    "`pip install sympy`\n",
    "\n",
    "`pip install numpy`\n",
    "\n",
    "`pip install scipy`\n",
    "\n",
    "`pip install matplotlib` (for plotting data)\n",
    "\n",
    "`pip install nbconvert` (so you can see LaTeX in Jupyter Notebooks)\n",
    "\n",
    "`pip install ppsim` (if you want to use population protocols)"
   ]
  },
  {
   "cell_type": "markdown",
   "metadata": {},
   "source": [
    "### Let's make sure that went how we hope it went:"
   ]
  },
  {
   "cell_type": "code",
   "execution_count": 2,
   "metadata": {},
   "outputs": [],
   "source": [
    "from sympy import *\n",
    "from numpy import *\n",
    "import scipy.integrate as intg\n",
    "import ppsim\n"
   ]
  },
  {
   "cell_type": "markdown",
   "metadata": {},
   "source": [
    "# Chemical Reaction Networks\n",
    "\n",
    "<video width=\"600\" height=\"300\" \n",
    "       src=\"CRN.mp4\"  \n",
    "       controls>\n",
    "</video>"
   ]
  },
  {
   "cell_type": "markdown",
   "metadata": {},
   "source": [
    "You can read about Chemical Reaction Networks here: https://en.wikipedia.org/wiki/Chemical_reaction_network_theory\n",
    "\n",
    "We can think of these as _massively distributed_ computing systems. Or, we can think of them as vats of chemicals where molecules bump into each other and react to form new chemicals. It's useful to concieve of these reactions as happening *all the time* - continuously. So we'll see that these chemical systems described (or are described by) systems of equations representing how the concentrations of the chemical species are changing over time."
   ]
  },
  {
   "cell_type": "markdown",
   "metadata": {},
   "source": [
    "#### Part 1: Converting a CRN to an ODE system"
   ]
  },
  {
   "cell_type": "markdown",
   "metadata": {},
   "source": [
    "##### Consider the following CRN:\n",
    "\n",
    "$$N: S = \\{A, B, C\\}, R = \\{\\rho_1, \\rho_2, \\rho_3\\},$$ \n",
    "\n",
    "where $S$ is a set of molecular species involved and $R$ is a set of reactions that each consume and produce some of, those species:\n",
    "\n",
    " $$\\rho_1 := A + 2B \\rightarrow A + C$$\n",
    " $$\\rho_2 := B + C + A \\rightarrow 2A$$\n",
    " $$\\rho_3 := B \\rightarrow B + C$$ \n",
    "\n",
    " There is plenty of lingo and jargon to learn about this, and we can pick that up with time. For now, let's just mention that for any of these reactions to take place, all the <b>reactants</b> (the molecules left of the $\\rightarrow$ must be present at the same time).\n",
    "\n",
    " There are different <b>semantics</b> to this model (if you're a computer scientists), or kinetics (if you're a chemist). One way of semantically interpreting these reactions is that there is some <b> probability </b> that one A and two B all bump into each other at the same-ish time and place, in which case the reaction goes off and the <b> products </b> (to the right of $\\rightarrow$) are generated. This is the <b> stochastic model of chemical kinetics </b> and it requires thinking about probability. It is harder to use than our other option, the <b> mass-action </b> model. In this model - odd as the intuition may be - we don't try to deal with individual molecules at all. Instead, we assume we assume that there is _a lot_ of each species available, and we think about how the _relative quantites_ of each species changes over time. Thus, we are interested in the _concentration_ of each species. In doing so, geometry disappears from the problem: there is no longer a \"place\" where a reaction happens - all of these reactions that are _enabled_ by the presence of their respective reactants are _always_ going off, but with different rates and different products. We will focus on modeling CRNs using this mass-action, or _deterministic_, semantics.\n",
    "\n",
    "How can we convert this into a system of ordinary differential equations representing the mass-action kinetics of a system governed by these reaction rules?\n",
    "\n",
    "First we obtain some values $\\Delta_i^s$ for each reaction $\\rho_i$ and species $s$, representing the net change of $s$ in $\\rho_i$. For example, $\\Delta_1^a = 0$ since $A$ (though appearing as a catalyst) is produced and consumed in the same quantity. Likewise, $\\Delta_1^b = -2$ and $\\Delta_3^c = 1$."
   ]
  },
  {
   "cell_type": "markdown",
   "metadata": {},
   "source": [
    "### ////////////////////////\\\\\\\\\\\\\\\\\\\\\\\\\\\\\\\\\\\\\\\\\\\\\\\\\\\n",
    "#### <b> Pause here and write down all the $\\Delta$ values. </b>\n",
    "### \\\\\\\\\\\\\\\\\\\\\\\\\\\\\\\\\\\\\\\\\\\\\\\\/////////////////////////"
   ]
  },
  {
   "cell_type": "markdown",
   "metadata": {},
   "source": [
    "Next we get the rate of each reaction: $rate_i(t) = k_i \\prod_{j=1}^n x_j^{a_{ij}}$ where $k_i$ is the rate constant (these are normally written above the $\\rightarrow$. We don't have any of these above, so we assume them to be equal to 1), $x_j$ is the concentration of the $j$-th reactant, and $a_{ij}$ is the coefficient of the $j$-th reactant in the $i$-th reaction. \n",
    "\n",
    "For example, $$rate_1(t) = a(t)b(t)^2$$"
   ]
  },
  {
   "cell_type": "markdown",
   "metadata": {},
   "source": [
    "### ////////////////////////\\\\\\\\\\\\\\\\\\\\\\\\\\\\\\\\\\\\\\\\\\\\\\\\\\\n",
    "#### <b> Pause here and write down all the reaction rates. </b>\n",
    "### \\\\\\\\\\\\\\\\\\\\\\\\\\\\\\\\\\\\\\\\\\\\\\\\/////////////////////////"
   ]
  },
  {
   "cell_type": "markdown",
   "metadata": {},
   "source": [
    "##### Type check: _reactions_ have rates of reaction. _species_ have rates of change."
   ]
  },
  {
   "cell_type": "markdown",
   "metadata": {},
   "source": [
    "Ultimately, we want equations represention the rate of change of each species - $\\frac{dy}{dt}$ for each $y \\in S$.\n",
    "\n",
    "To get the rate of change of species $A$, we sum over all reactions $r \\in R$ the values $\\Delta_r^a * rate_r$.\n",
    "\n",
    "That is, $$a'(t) = \\sum_{r \\in R} \\Delta_r^a * rate_r $$ and, in particular, we have $$a'(t) = b(t)c(t)a(t),$$ $$b'(t) = -2a(t)b(t)^2 -b(t)c(t)a(t)$$ $$c'(t) = \\text{ your turn!}$$\n",
    "\n",
    "Note: This gives us a function of $t$, like we'd expect: the rate of change of some species is itself a function of time, and its integral is of course the actual \"amount\" or concentration of that species at time $t$."
   ]
  },
  {
   "cell_type": "markdown",
   "metadata": {},
   "source": [
    "#### Note: It gets old writing (t) next to everything. We can just say $$b' = 2ab^2 - bca,$$ knowing that everything involved is a function of time. \n",
    "\n",
    "All ODE systems corresponding to chemical reaction networks have the following properties (we might find that this is not an exhaustive list of their specific properties...): They are\n",
    "\n",
    "- <b>Autonomous</b> There are no terms in the right-hand side equations where $t$ appears independetly. e.g. $x'(t) = a(t)^2 + t is$ not possible.\n",
    "- <b>First-order</b> There are no equations like $y'' = ...$. Rather, we see only the solution values (like $a(t)$) and their derivatives $a'(t)$.\n",
    "- <b>Polynomial</b> If we treat the species concentrations as variables, then the right-hand side of every ODE equation is a polynomial of these variables.\n",
    "\n",
    "Thus, they make up a fairly specific class of differential equations - this is good to know for when we attempt to solve or manipulate them."
   ]
  },
  {
   "cell_type": "markdown",
   "metadata": {},
   "source": [
    "### Part 2: Modeling ODE systems in Python"
   ]
  },
  {
   "cell_type": "code",
   "execution_count": 4,
   "metadata": {},
   "outputs": [
    {
     "data": {
      "image/png": "[encoded data removed]",
      "text/plain": [
       "<Figure size 432x288 with 1 Axes>"
      ]
     },
     "metadata": {
      "needs_background": "light"
     },
     "output_type": "display_data"
    }
   ],
   "source": [
    "#solve an ordinary differential equation derived from a CRN and plot the solution\n",
    "import numpy as np\n",
    "import scipy.integrate as intg\n",
    "import matplotlib.pyplot as plt\n",
    "\n",
    "def g(t,y):\n",
    "    A = y[0]\n",
    "    B = y[1]\n",
    "    C = y[2]\n",
    "\n",
    "    dA_dt = B*C*A\n",
    "    dB_dt = -2*A*B**2 - B*C*A\n",
    "    dC_dt = B*C - B*C*A - A*B**2\n",
    "\n",
    "    return np.array([dA_dt,dB_dt,dC_dt])\n",
    "\n",
    "t_span = np.array([0,20])\n",
    "times = np.linspace(t_span[0],t_span[1],101)\n",
    "\n",
    "y0 = np.array([1,1,2]) # Initial values for the system variables\n",
    "\n",
    "soln = intg.solve_ivp(g,t_span,y0,t_eval=times)\n",
    "\n",
    "t = soln.t\n",
    "A = soln.y[0]\n",
    "B = soln.y[1]\n",
    "C = soln.y[2]\n",
    "\n",
    "plt.figure()\n",
    "plt.plot(t,A, '-',label='A')\n",
    "plt.plot(t,B, '-',label='B')\n",
    "plt.plot(t,C, '-',label='C')\n",
    "plt.xlabel(\"time\")\n",
    "plt.ylabel(\"concentrations\")\n",
    "plt.legend()\n",
    "plt.show()\n"
   ]
  },
  {
   "cell_type": "markdown",
   "metadata": {},
   "source": [
    "#### Let's look at another example plot. This time we don't know the CRN it corresponds to:"
   ]
  },
  {
   "cell_type": "code",
   "execution_count": 12,
   "metadata": {},
   "outputs": [
    {
     "data": {
      "image/png": "[encoded data removed]",
      "text/plain": [
       "<Figure size 640x480 with 1 Axes>"
      ]
     },
     "metadata": {},
     "output_type": "display_data"
    }
   ],
   "source": [
    "#solve an ordinary differential equation derived from a CRN and plot the solution\n",
    "import numpy as np\n",
    "import scipy.integrate as intg\n",
    "import matplotlib.pyplot as plt\n",
    "\n",
    "def f(t,y):\n",
    "    X = y[0]\n",
    "    Y = y[1]\n",
    "    Z = y[2]\n",
    "\n",
    "    dX_dt = -4*(X**2)*(Y**3)\n",
    "    dY_dt = -6*(X**2)*(Y**3) + 2*X*Z**2\n",
    "    dZ_dt = 8*(X**2)*(Y**3) -2*X*Z**2\n",
    "\n",
    "    return np.array([dX_dt,dY_dt,dZ_dt])\n",
    "\n",
    "t_span = np.array([0,20])\n",
    "times = np.linspace(t_span[0],t_span[1],101)\n",
    "\n",
    "y0 = np.array([1,1,1])\n",
    "\n",
    "soln = intg.solve_ivp(f,t_span,y0,t_eval=times)\n",
    "\n",
    "t = soln.t\n",
    "X = soln.y[0]\n",
    "Y = soln.y[1]\n",
    "Z = soln.y[2]\n",
    "\n",
    "plt.figure()\n",
    "plt.plot(t,X, '-',label='X')\n",
    "plt.plot(t,Y, '-',label='Y')\n",
    "plt.plot(t,Z, '-',label='Z')\n",
    "plt.xlabel(\"time\")\n",
    "plt.ylabel(\"concentrations\")\n",
    "plt.legend()\n",
    "plt.show()\n"
   ]
  },
  {
   "cell_type": "markdown",
   "metadata": {},
   "source": [
    "#### Challenge Activity: Are you able to work backwards to figure out the/a CRN from which this ODE system is derived?\n",
    "\n",
    "###### Do the dynamics suggested by the plot give you any clue as to the \"shape\" of the reactions involved?\n",
    "\n",
    "###### There is a technique to this - but it is not as direct as converting a CRN to an ODE system."
   ]
  },
  {
   "cell_type": "code",
   "execution_count": null,
   "metadata": {},
   "outputs": [],
   "source": []
  },
  {
   "cell_type": "markdown",
   "metadata": {},
   "source": [
    "# Part 3: General-purpose analog computers (GPACs)\n",
    "\n",
    "GPACs are a model we see pretty often in our seminar. They can be thought of as the class of circuits you can construct by (responsibly) chaining together the following modules:\n",
    "\n",
    "Addition: x(t), y(t) go int, x(t) + y(t) comes out.\n",
    "\n",
    "Multiplicaton: ...\n",
    "\n",
    "Integration: x(t), t go in, $\\int_0^t x(t)dt$ comes out\n",
    "\n",
    "Constant: Some continual stream of a static value like 1, $\\pi$, $\\frac{3}{4}$, etc.\n",
    "\n",
    "If we play around with these modules enough, we discover that a general purpose analog computer is any ODE system that looks like this:\n",
    "\n",
    "$$y'(t) = p (y,t)$$\n",
    "$$y'(0) = y_0$$\n",
    "\n",
    "for some polynomial $p$. This can be called a PIVP, or <i> polynomial initial value problem </i>.\n",
    "\n",
    "Note: Here, $y$ is a vector so it actually contains all the individual solutions we were dealing with earlier. I.e. y = [a, b, c]. Likewise, $y_0$ is some particular initial value vector that assigns an initial value to each of the components in $y$."
   ]
  },
  {
   "cell_type": "markdown",
   "metadata": {},
   "source": [
    "Here is a visual depiction (from On the Functions Generated by the General Purpose Analog Computer -\n",
    "Olivier Bournez, Daniel Graça, Amaury Pouly, https://arxiv.org/abs/1602.00546): \n",
    "\n",
    "<p align=\"center\">\n",
    "<img src=\"gpacfns.JPG\" width=\"400\" height=\"200\">\n",
    "</p>"
   ]
  },
  {
   "cell_type": "markdown",
   "metadata": {},
   "source": [
    "GPACs are a very important and useful tool. The GPAC model originally comes from Vannevar Bush's differential analyzer. Shannon developed theoretical model of this device. It has since been modified and updated by a number of mathematicians including Pour El and, more recently, Bournez, Campagnolo, Graca, and Pouly.\n",
    "\n",
    "<p align=\"center\">\n",
    "<img src=\"diffanalyzer.jpg\" width=\"400\" height=\"250\">\n",
    "</p>"
   ]
  },
  {
   "cell_type": "markdown",
   "metadata": {},
   "source": [
    "We've got something similar to a differential analyzer here at Drake, though miniaturized:\n",
    "\n",
    "<p align=\"center\">\n",
    "<img src=\"that.jpg\" width=\"300\" height=\"400\">\n",
    "</p>\n",
    "\n",
    "This nice little device is basically a field-programmable analog circuit which can be plugged into an oscilliscope that lets us view the solutions as voltages!"
   ]
  },
  {
   "cell_type": "markdown",
   "metadata": {},
   "source": [
    "### We need to take a detour and learn a trick!\n",
    "\n",
    "One way we could discuss the relative power of each model is by showing that we can convert between them. Can we convert freely between GPACs and CRNs?\n",
    "\n",
    "We know one direction is possible: because <b> every CRN converts to a system of ODEs that has this GPAC form. </b>\n",
    "\n",
    "Is this true the other way around? Can every GPAC be converted to a CRN?\n",
    "\n"
   ]
  },
  {
   "cell_type": "markdown",
   "metadata": {},
   "source": [
    "\n",
    "#### ////////////////////////////\\\\\\\\\\\\\\\\\\\\\\\\\\\\\\\\\\\\\\\\\\\\\\\\\\\\\n",
    "### Challenge Activity: Give an example of a GPAC that isn't convertible to a CRN, or prove that every GPAC is a CRN.\n",
    "#### \\\\\\\\\\\\\\\\\\\\\\\\\\\\\\\\\\\\\\\\\\\\\\\\\\\\\\\\//////////////////////////"
   ]
  },
  {
   "cell_type": "markdown",
   "metadata": {},
   "source": [
    "# .....\n",
    "\n",
    "### So much room to think, to contemplate...\n",
    "\n",
    "...\n",
    "\n",
    "### So much scrolling to reach the truth...\n",
    "\n",
    "# ....."
   ]
  },
  {
   "cell_type": "markdown",
   "metadata": {},
   "source": [
    "Indeed, GPACs are not _by nature_ CRN-implementable.\n",
    "\n",
    "Earlier we mentioned some properties of CRN ODEs: they are autonomous, polynomial, and first-order. We suggested that some other features may be left out. One important feature is that ODEs of CRNs have the following form: $$ x' = p_x - q_x * x $$ where $p_x$ and $q_x$ are <b> positive polynomials </b>. $p$ and $q$ are positive in the sense that the coefficient in front of them is a positive number. They are polynomials in that they are made up of monomials that multiply various powers of the system's variables $x, y, z,...$. Note: the rule does _not_ preclude the presence of $x$ in $p_x$ or $q_x$.\n",
    "\n",
    "If you want to, you can think of this instead as $$x' = p_x + q_x * x$$ where all terms in $q_x$ are negative and all terms in $p_x$ are positive. Whichever you like.\n",
    "\n",
    "The key point here is that any term of $x'$ that has a negative coefficient must include $x$. This goes for every variable $x$ in the system, of course. It is easy to construct GPACs for which this is not the case. "
   ]
  },
  {
   "cell_type": "markdown",
   "metadata": {},
   "source": [
    "Consider the system $$ G: $$  $$x' = x - y$$ $$y' = y^2 + yx$$"
   ]
  },
  {
   "cell_type": "markdown",
   "metadata": {},
   "source": [
    "### Activity: \n",
    "\n",
    "1. As practice, write the code to simulate the ODE system.\n",
    "2. Try to write a reaction system for it. What issue do you run into?"
   ]
  },
  {
   "cell_type": "code",
   "execution_count": null,
   "metadata": {},
   "outputs": [],
   "source": [
    "#solve an ordinary differential equation derived from a CRN and plot the solution\n",
    "import numpy as np\n",
    "import scipy.integrate as intg\n",
    "import matplotlib.pyplot as plt\n",
    "\n",
    "def f(t,y):\n",
    "    X = y[0]\n",
    "    Y = y[1]\n",
    "\n",
    "    dX_dt = \n",
    "    dY_dt = \n",
    "\n",
    "    return np.array()\n",
    "\n",
    "t_span = np.array([0,20])\n",
    "times = np.linspace(t_span[0],t_span[1],101)\n",
    "\n",
    "y0 = np.array([1,1])\n",
    "\n",
    "soln = intg.solve_ivp(f,t_span,y0,t_eval=times)\n",
    "\n",
    "t = soln.t\n",
    "X = soln.y[0]\n",
    "Y = soln.y[1]\n",
    "\n",
    "plt.figure()\n",
    "plt.plot(t,X, '-',label='X')\n",
    "plt.plot(t,Y, '-',label='Y')\n",
    "plt.xlabel(\"time\")\n",
    "plt.ylabel(\"concentrations\")\n",
    "plt.legend()\n",
    "plt.show()\n"
   ]
  },
  {
   "cell_type": "markdown",
   "metadata": {},
   "source": [
    "### This is not the end of the story! \n",
    "#### We can convert any GPAC system into a CRN using a technique called _dual railing_\n",
    "\n",
    "A good place to read about this is around p.34 of <a href = \"https://dr.lib.iastate.edu/server/api/core/bitstreams/37ca751a-f211-46ff-b1e2-1ffe10c69a25/content\">Xiang Huang's thesis</a>."
   ]
  },
  {
   "cell_type": "markdown",
   "metadata": {},
   "source": [
    "### Pause for Sanity:\n",
    "\n",
    "We are now talking about \"converting\" things into other things. Any conversion requires some explanation and an account of which things we hope remain true, and which ones we hope become true, during and after the transformation. After all, I can convert any ODE system into the flat-line ODE system by setting the rates of all variables to 0. But that deletes most of the interesting properties I may have had before. So what kind of conversion are we talking about here?"
   ]
  },
  {
   "cell_type": "markdown",
   "metadata": {},
   "source": [
    "Normally we are talking about converting a system to one that is equivalent in some sense. There are many things \"equivalent\" can mean. One family of meanings are those in which the long-term behavior of the system is the same. In the dual-railing technique discussed below, our goal is to <i>preserve</i> the limiting behavior of certain variables, i.e. $$\\lim_{t \\rightarrow \\infty} x(t) = \\lim_{t \\rightarrow \\infty} \\hat{x}(t)$$\n",
    "\n",
    "Also, before we go any further - it's time to be good programmers and encapsulate our solving-and-plotting procedure:"
   ]
  },
  {
   "cell_type": "code",
   "execution_count": 4,
   "metadata": {},
   "outputs": [],
   "source": [
    "import numpy as np\n",
    "import scipy.integrate as intg\n",
    "import matplotlib.pyplot as plt\n",
    "\n",
    "def solve_and_plot_ode(ode_func, initial_values, time_span, num_points=101):\n",
    "    times = np.linspace(time_span[0], time_span[1], num_points)\n",
    "    soln = intg.solve_ivp(ode_func, time_span, initial_values, t_eval=times)\n",
    "    \n",
    "    \n",
    "    plt.figure()\n",
    "    for i in range(soln.y.shape[0]):\n",
    "        plt.plot(soln.t, soln.y[i], '-', label=f'Variable {i+1}')\n",
    "    \n",
    "    plt.xlabel(\"Time\")\n",
    "    plt.ylabel(\"Values\")\n",
    "    plt.title(\"Solution of the ODE System\")\n",
    "    plt.legend()\n",
    "    plt.show()\n",
    "\n"
   ]
  },
  {
   "cell_type": "markdown",
   "metadata": {},
   "source": [
    "# Technique 1: The dual-rail method"
   ]
  },
  {
   "cell_type": "markdown",
   "metadata": {},
   "source": [
    "We do the following for every variable $y_i$ in the system: the trick is to re-write each variable of the ODE system as two variables: So, for $y_i$ we construct $u_{i}$ and $v_{i}$, so that (with the goal of) $y_i = u_i - v_i$. We'll have to give these new variables their own ODEs later, in such a way that this equation to $y_i$ is true. For now, just know what we're shooting for is to use them to represent an old variable that doesn't have the CRN-implementable format we described earlier.\n",
    "\n",
    "Since we start with a GPAC, there's some polynomial $p_i$ that describes its variable $y_i$ as $y_i' = p_i(y_1,y_2,...,y_n)$.\n",
    "\n",
    "We can represent $p_i$ as $p_i = p_i^+ - p_i^-$ where both are positive polynomials. Emphasis on _represent_ : we are not _changing_ anything about that polynomial, just re-writing it to have this shape. Note that $p_i^-$ is not written as a product with $y_i$ - that's the reason we can't outright say it's in CRN format.\n",
    "\n",
    "Now define the new ODEs to be: $$ u_i' = p_i^+ - u_iv_i(p_i^+ + p_i^-), \\text{ and}$$ $$ v_i' = p_i^- - u_iv_i(p_i^+ + p_i^-).$$\n",
    "\n",
    "Plus, we add a new variable $z' = 1 - (u_1 - v_1)*z$.\n",
    "\n",
    "Here is the punchline: $$y_i' = u_i' - v_i' = p^+_i - p_i^- = p_i,$$ which is the original polynomial expression but now written (using new variables) in CRN-implementable form."
   ]
  },
  {
   "cell_type": "markdown",
   "metadata": {},
   "source": [
    "### Activity: \n",
    "\n",
    "Try this method on $$ G: $$  $$x' = x - y$$ $$y' = y^2 + yx$$"
   ]
  },
  {
   "cell_type": "markdown",
   "metadata": {},
   "source": [
    "# Technique 2: Zero initial values\n",
    "\n",
    "#### Let's look at another important technique, which allows us to take an arbitrary GPAC (or CRN) and transform it into an equivalent one, but whose initial values are all 0.\n",
    "\n",
    "You may be wondering: why is it possible to have zero initial values at all? \n",
    "\n",
    "### An aside: analyticity\n",
    "All PIVP solutions have an important property known as <i> analyticity </i> - that is, they are analytic functions. Analytic functions are important in many ways, but for us it suffices to know that they must be <i>smooth</i>: not only continuous everywhere, but differentiable everywhere. This makes some sense, since we don't expect either quantities nor their rates of change to jump sharply, but smoothly. If the rate of change of $x$ goes from 1 to 2, it does not do this in an instant, but as a result of continuous changes in its conditions of development (other variables changing continuously).\n",
    "\n",
    "Because of analyticity, it is not possible for a CRN system variable that is non-zero to become zero. If it did, it would \"crash\" to a flat line and introduce a sharp (non-smooth) change in its rate of change. If $x(t) = 0$, then either $x(t) = 0$ for all times $t \\in [0,\\infty)$ or one other possibility maybe the case:\n",
    "\n",
    "$x(0) = 0$. It is not a violation of smoothness for $x$ to become positive after $t=0$, in the same way that it is a violation of smoothness for it to crash to $0$ later. One way to think of this is that, since \"time starts at 0\", we just need to be ``half-continuous\" on the right.\n",
    "\n",
    "Try out the system below:\n",
    "\n"
   ]
  },
  {
   "cell_type": "code",
   "execution_count": 7,
   "metadata": {},
   "outputs": [
    {
     "data": {
      "image/png": "[encoded data removed]",
      "text/plain": [
       "<Figure size 432x288 with 1 Axes>"
      ]
     },
     "metadata": {
      "needs_background": "light"
     },
     "output_type": "display_data"
    }
   ],
   "source": [
    "def zero_example(t, y):\n",
    "    X = y[0]\n",
    "    Y = y[1]\n",
    "    dX_dt = 1\n",
    "    dY_dt = 2*X\n",
    "    return [dX_dt, dY_dt]\n",
    "\n",
    "y0 = [0, 0]\n",
    "t_span = (0, 20)\n",
    "\n",
    "solve_and_plot_ode(zero_example, y0, t_span)"
   ]
  },
  {
   "cell_type": "code",
   "execution_count": 9,
   "metadata": {},
   "outputs": [
    {
     "data": {
      "image/png": "[encoded data removed]",
      "text/plain": [
       "<Figure size 432x288 with 1 Axes>"
      ]
     },
     "metadata": {
      "needs_background": "light"
     },
     "output_type": "display_data"
    }
   ],
   "source": [
    "def zero_example2(t, y):\n",
    "    X = y[0]\n",
    "    dX_dt = -5*X + 4\n",
    "    return [dX_dt]\n",
    "\n",
    "y0 = [0]\n",
    "t_span = (0, 20)\n",
    "\n",
    "solve_and_plot_ode(zero_example2, y0, t_span)"
   ]
  },
  {
   "cell_type": "markdown",
   "metadata": {},
   "source": [
    "### Activity: \n",
    "\n",
    "The one-variable system above is CRN-implementable. Write down an implementation that uses two reactions. \n",
    "\n",
    "Two hints: 1. use rate constants 2. reactions like $\\emptyset \\rightarrow A$ are allowed (despite what the reality of chemistry and physics has to say about it).\n",
    "\n",
    "What does your choice of rate constants have to do with the value this ODE solution seems to converge to?"
   ]
  },
  {
   "cell_type": "markdown",
   "metadata": {},
   "source": [
    "Why do we allow reactions that so obviously violate the conservation of mass? Because - and you may have guessed it - we can always rewrite such reactions as a \"physically reasonable\" set of reactions with equivalent behavior. "
   ]
  },
  {
   "cell_type": "markdown",
   "metadata": {},
   "source": []
  }
 ],
 "metadata": {
  "kernelspec": {
   "display_name": "Python 3",
   "language": "python",
   "name": "python3"
  },
  "language_info": {
   "codemirror_mode": {
    "name": "ipython",
    "version": 3
   },
   "file_extension": ".py",
   "mimetype": "text/x-python",
   "name": "python",
   "nbconvert_exporter": "python",
   "pygments_lexer": "ipython3",
   "version": "3.10.5"
  }
 },
 "nbformat": 4,
 "nbformat_minor": 2
}
